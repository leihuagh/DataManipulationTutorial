{
 "cells": [
  {
   "cell_type": "code",
   "execution_count": 1,
   "metadata": {},
   "outputs": [],
   "source": [
    "import numpy as np"
   ]
  },
  {
   "cell_type": "code",
   "execution_count": 3,
   "metadata": {},
   "outputs": [
    {
     "data": {
      "text/plain": [
       "array([ 33, 454,  34,  56,  34,  67,  43])"
      ]
     },
     "execution_count": 3,
     "metadata": {},
     "output_type": "execute_result"
    }
   ],
   "source": [
    "arr = np.array([33, 454, 34, 56, 34, 67, 43])\n",
    "arr"
   ]
  },
  {
   "cell_type": "code",
   "execution_count": 4,
   "metadata": {},
   "outputs": [
    {
     "data": {
      "text/plain": [
       "array([ 33, 454,  34,  56,  34,  67,  43])"
      ]
     },
     "execution_count": 4,
     "metadata": {},
     "output_type": "execute_result"
    }
   ],
   "source": [
    "arr.transpose()"
   ]
  },
  {
   "cell_type": "code",
   "execution_count": 5,
   "metadata": {},
   "outputs": [
    {
     "data": {
      "text/plain": [
       "array([ 33, 454,  34,  56,  34,  67,  43])"
      ]
     },
     "execution_count": 5,
     "metadata": {},
     "output_type": "execute_result"
    }
   ],
   "source": [
    "arr.T"
   ]
  },
  {
   "cell_type": "code",
   "execution_count": 6,
   "metadata": {},
   "outputs": [
    {
     "data": {
      "text/plain": [
       "array([[ 0,  1,  2,  3,  4,  5,  6,  7,  8,  9],\n",
       "       [10, 11, 12, 13, 14, 15, 16, 17, 18, 19],\n",
       "       [20, 21, 22, 23, 24, 25, 26, 27, 28, 29],\n",
       "       [30, 31, 32, 33, 34, 35, 36, 37, 38, 39],\n",
       "       [40, 41, 42, 43, 44, 45, 46, 47, 48, 49],\n",
       "       [50, 51, 52, 53, 54, 55, 56, 57, 58, 59]])"
      ]
     },
     "execution_count": 6,
     "metadata": {},
     "output_type": "execute_result"
    }
   ],
   "source": [
    "arr1 = np.arange(60).reshape(6, 10)\n",
    "arr1"
   ]
  },
  {
   "cell_type": "code",
   "execution_count": 7,
   "metadata": {},
   "outputs": [
    {
     "data": {
      "text/plain": [
       "array([[ 0, 10, 20, 30, 40, 50],\n",
       "       [ 1, 11, 21, 31, 41, 51],\n",
       "       [ 2, 12, 22, 32, 42, 52],\n",
       "       [ 3, 13, 23, 33, 43, 53],\n",
       "       [ 4, 14, 24, 34, 44, 54],\n",
       "       [ 5, 15, 25, 35, 45, 55],\n",
       "       [ 6, 16, 26, 36, 46, 56],\n",
       "       [ 7, 17, 27, 37, 47, 57],\n",
       "       [ 8, 18, 28, 38, 48, 58],\n",
       "       [ 9, 19, 29, 39, 49, 59]])"
      ]
     },
     "execution_count": 7,
     "metadata": {},
     "output_type": "execute_result"
    }
   ],
   "source": [
    "arr1.T"
   ]
  },
  {
   "cell_type": "markdown",
   "metadata": {},
   "source": [
    "Transpose inverses the # of Rows and Columns"
   ]
  },
  {
   "cell_type": "code",
   "execution_count": 8,
   "metadata": {},
   "outputs": [
    {
     "data": {
      "text/plain": [
       "array([[[ 0,  1],\n",
       "        [ 2,  3],\n",
       "        [ 4,  5],\n",
       "        [ 6,  7],\n",
       "        [ 8,  9]],\n",
       "\n",
       "       [[10, 11],\n",
       "        [12, 13],\n",
       "        [14, 15],\n",
       "        [16, 17],\n",
       "        [18, 19]],\n",
       "\n",
       "       [[20, 21],\n",
       "        [22, 23],\n",
       "        [24, 25],\n",
       "        [26, 27],\n",
       "        [28, 29]],\n",
       "\n",
       "       [[30, 31],\n",
       "        [32, 33],\n",
       "        [34, 35],\n",
       "        [36, 37],\n",
       "        [38, 39]],\n",
       "\n",
       "       [[40, 41],\n",
       "        [42, 43],\n",
       "        [44, 45],\n",
       "        [46, 47],\n",
       "        [48, 49]],\n",
       "\n",
       "       [[50, 51],\n",
       "        [52, 53],\n",
       "        [54, 55],\n",
       "        [56, 57],\n",
       "        [58, 59]]])"
      ]
     },
     "execution_count": 8,
     "metadata": {},
     "output_type": "execute_result"
    }
   ],
   "source": [
    "arr2 = np.arange(60).reshape(6, 5, 2)\n",
    "arr2"
   ]
  },
  {
   "cell_type": "code",
   "execution_count": 9,
   "metadata": {},
   "outputs": [
    {
     "data": {
      "text/plain": [
       "array([[[ 0, 10, 20, 30, 40, 50],\n",
       "        [ 2, 12, 22, 32, 42, 52],\n",
       "        [ 4, 14, 24, 34, 44, 54],\n",
       "        [ 6, 16, 26, 36, 46, 56],\n",
       "        [ 8, 18, 28, 38, 48, 58]],\n",
       "\n",
       "       [[ 1, 11, 21, 31, 41, 51],\n",
       "        [ 3, 13, 23, 33, 43, 53],\n",
       "        [ 5, 15, 25, 35, 45, 55],\n",
       "        [ 7, 17, 27, 37, 47, 57],\n",
       "        [ 9, 19, 29, 39, 49, 59]]])"
      ]
     },
     "execution_count": 9,
     "metadata": {},
     "output_type": "execute_result"
    }
   ],
   "source": [
    "arr2.T"
   ]
  },
  {
   "cell_type": "markdown",
   "metadata": {},
   "source": [
    "Transposing on 3 or more dimensions reverses the order?"
   ]
  },
  {
   "cell_type": "code",
   "execution_count": 12,
   "metadata": {},
   "outputs": [
    {
     "data": {
      "text/plain": [
       "array([[[ 0,  1],\n",
       "        [10, 11],\n",
       "        [20, 21],\n",
       "        [30, 31],\n",
       "        [40, 41],\n",
       "        [50, 51]],\n",
       "\n",
       "       [[ 2,  3],\n",
       "        [12, 13],\n",
       "        [22, 23],\n",
       "        [32, 33],\n",
       "        [42, 43],\n",
       "        [52, 53]],\n",
       "\n",
       "       [[ 4,  5],\n",
       "        [14, 15],\n",
       "        [24, 25],\n",
       "        [34, 35],\n",
       "        [44, 45],\n",
       "        [54, 55]],\n",
       "\n",
       "       [[ 6,  7],\n",
       "        [16, 17],\n",
       "        [26, 27],\n",
       "        [36, 37],\n",
       "        [46, 47],\n",
       "        [56, 57]],\n",
       "\n",
       "       [[ 8,  9],\n",
       "        [18, 19],\n",
       "        [28, 29],\n",
       "        [38, 39],\n",
       "        [48, 49],\n",
       "        [58, 59]]])"
      ]
     },
     "execution_count": 12,
     "metadata": {},
     "output_type": "execute_result"
    }
   ],
   "source": [
    "#passing in arguments into this determines the dimensional order\n",
    "#Where the original was 6, 5, 2\n",
    "#This one is 5, 6, 2\n",
    "arr2.transpose((1, 0, 2))"
   ]
  },
  {
   "cell_type": "code",
   "execution_count": null,
   "metadata": {},
   "outputs": [],
   "source": []
  }
 ],
 "metadata": {
  "kernelspec": {
   "display_name": "Python 3",
   "language": "python",
   "name": "python3"
  },
  "language_info": {
   "codemirror_mode": {
    "name": "ipython",
    "version": 3
   },
   "file_extension": ".py",
   "mimetype": "text/x-python",
   "name": "python",
   "nbconvert_exporter": "python",
   "pygments_lexer": "ipython3",
   "version": "3.6.4"
  }
 },
 "nbformat": 4,
 "nbformat_minor": 2
}
